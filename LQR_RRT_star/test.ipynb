{
 "cells": [
  {
   "cell_type": "code",
   "execution_count": 3,
   "id": "118c3b6f",
   "metadata": {},
   "outputs": [],
   "source": [
    "import numpy as np\n",
    "import numpy.linalg as la\n",
    "import random\n",
    "from tqdm import tqdm\n",
    "import control as ct"
   ]
  },
  {
   "cell_type": "code",
   "execution_count": 4,
   "id": "6f554bfd",
   "metadata": {},
   "outputs": [],
   "source": [
    "def updfcn(t, x, u, params=None):\n",
    "    return np.array([\n",
    "        np.cos(x[2]) * u[1],\n",
    "        np.sin(x[2]) * u[1],\n",
    "        u[0]/r * u[1]\n",
    "    ])"
   ]
  },
  {
   "cell_type": "code",
   "execution_count": 21,
   "id": "3833b1ac",
   "metadata": {},
   "outputs": [],
   "source": [
    "V = 1\n",
    "r = 1\n",
    "Q = np.diag([1,1,1])  # State cost matrix\n",
    "R = np.diag([1,1])  # Control cost matrix\n",
    "snake_system = ct.nlsys(updfcn)\n"
   ]
  },
  {
   "cell_type": "code",
   "execution_count": 28,
   "id": "5bbbb3cb",
   "metadata": {},
   "outputs": [
    {
     "name": "stdout",
     "output_type": "stream",
     "text": [
      "LQR Gain Matrix K:\n",
      " [[ 5.00000116e-01 -8.66025337e-01  1.73205081e+00]\n",
      " [-8.66025337e-01 -5.00000116e-01 -1.33973064e-07]]\n"
     ]
    }
   ],
   "source": [
    "rand_state = np.array([1, 2, 7*np.pi/6])\n",
    "lineralized_system_rand = snake_system.linearize(rand_state,[0,1])  \n",
    "K, S, E = ct.lqr(lineralized_system_rand, Q, R)\n",
    "print(\"LQR Gain Matrix K:\\n\", K)\n",
    "\n",
    "def customlinearize(x, r, u = [0.0,1.0]): #hard coded for the snake system\n",
    "    A = np.array([[0, 0, -u[1] * np.sin(x[2])],\n",
    "                  [0, 0, u[1] * np.cos(x[2])],\n",
    "                  [0, 0, 0]])\n",
    "    B = np.array([[0, np.cos(x[2])],\n",
    "                  [0, np.sin(x[2])],\n",
    "                  [u[1]/r, 0]]) # type: ignore\n",
    "    return A, B\n",
    "\n",
    "A, B = customlinearize(rand_state, r)"
   ]
  },
  {
   "cell_type": "code",
   "execution_count": 29,
   "id": "234df8c5",
   "metadata": {},
   "outputs": [
    {
     "name": "stdout",
     "output_type": "stream",
     "text": [
      "[[ 0.          0.          0.50000043]\n",
      " [ 0.          0.         -0.86602515]\n",
      " [ 0.          0.          0.        ]]\n",
      "[[ 0.        -0.8660254]\n",
      " [ 0.        -0.5      ]\n",
      " [ 1.         0.       ]]\n",
      "[[ 0.         0.         0.5      ]\n",
      " [ 0.         0.        -0.8660254]\n",
      " [ 0.         0.         0.       ]]\n",
      "[[ 0.        -0.8660254]\n",
      " [ 0.        -0.5      ]\n",
      " [ 1.         0.       ]]\n"
     ]
    }
   ],
   "source": [
    "print(lineralized_system_rand.A)\n",
    "print(lineralized_system_rand.B)\n",
    "\n",
    "print(A)\n",
    "print(B)"
   ]
  }
 ],
 "metadata": {
  "kernelspec": {
   "display_name": "SnakeLearning",
   "language": "python",
   "name": "python3"
  },
  "language_info": {
   "codemirror_mode": {
    "name": "ipython",
    "version": 3
   },
   "file_extension": ".py",
   "mimetype": "text/x-python",
   "name": "python",
   "nbconvert_exporter": "python",
   "pygments_lexer": "ipython3",
   "version": "3.10.18"
  }
 },
 "nbformat": 4,
 "nbformat_minor": 5
}
